{
  "nbformat": 4,
  "nbformat_minor": 0,
  "metadata": {
    "colab": {
      "name": "RF_feature_importance.ipynb",
      "provenance": [],
      "authorship_tag": "ABX9TyN4JK82V0EEY1/rOkc7G8uO",
      "include_colab_link": true
    },
    "kernelspec": {
      "name": "python3",
      "display_name": "Python 3"
    },
    "language_info": {
      "name": "python"
    }
  },
  "cells": [
    {
      "cell_type": "markdown",
      "metadata": {
        "id": "view-in-github",
        "colab_type": "text"
      },
      "source": [
        "<a href=\"https://colab.research.google.com/github/mavela/RF_feature_importance/blob/master/RF_feature_importance.ipynb\" target=\"_parent\"><img src=\"https://colab.research.google.com/assets/colab-badge.svg\" alt=\"Open In Colab\"/></a>"
      ]
    },
    {
      "cell_type": "code",
      "execution_count": 3,
      "metadata": {
        "id": "iGVGnclTWsEy"
      },
      "outputs": [],
      "source": [
        "import sys\n",
        "import gzip\n",
        "import numpy as np\n",
        "import re\n",
        "from sklearn.metrics import classification_report\n",
        "import sklearn.feature_extraction\n",
        "import json\n",
        "from sklearn.ensemble import RandomForestClassifier, RandomForestRegressor\n",
        "from sklearn.model_selection import train_test_split\n",
        "from sklearn.inspection import permutation_importance\n",
        "from sklearn.datasets import load_boston\n",
        "from joblib import dump, load\n"
      ]
    },
    {
      "cell_type": "code",
      "source": [
        "import pandas as pd \n",
        "boston = load_boston()\n",
        "X = pd.DataFrame(boston.data, columns=boston.feature_names)\n",
        "y = boston.target\n",
        "X_train, X_test, y_train, y_test = train_test_split(X, y, test_size=0.25, random_state=12)\n",
        "\n",
        "rf = RandomForestRegressor(n_estimators=100)\n",
        "rf.fit(X_train, y_train)\n",
        "\n"
      ],
      "metadata": {
        "id": "EbPXYHh8XDj4"
      },
      "execution_count": null,
      "outputs": []
    },
    {
      "cell_type": "code",
      "source": [
        "! git clone https://github.com/mavela/RF_feature_importance.git"
      ],
      "metadata": {
        "colab": {
          "base_uri": "https://localhost:8080/"
        },
        "id": "kfFMber6HhhW",
        "outputId": "392a9955-bc80-473b-fd92-22aefee56d27"
      },
      "execution_count": 1,
      "outputs": [
        {
          "output_type": "stream",
          "name": "stdout",
          "text": [
            "Cloning into 'RF_feature_importance'...\n",
            "remote: Enumerating objects: 22, done.\u001b[K\n",
            "remote: Counting objects: 100% (22/22), done.\u001b[K\n",
            "remote: Compressing objects: 100% (21/21), done.\u001b[K\n",
            "remote: Total 22 (delta 3), reused 16 (delta 1), pack-reused 0\u001b[K\n",
            "Unpacking objects: 100% (22/22), done.\n"
          ]
        }
      ]
    },
    {
      "cell_type": "code",
      "source": [
        "% cd RF_feature_importance/"
      ],
      "metadata": {
        "colab": {
          "base_uri": "https://localhost:8080/"
        },
        "id": "GB1CqvVKHrvK",
        "outputId": "dc831d24-1dd3-490a-ccb5-0d866f5c1e98"
      },
      "execution_count": 2,
      "outputs": [
        {
          "output_type": "stream",
          "name": "stdout",
          "text": [
            "/content/RF_feature_importance\n"
          ]
        }
      ]
    },
    {
      "cell_type": "code",
      "source": [
        "def read_scores(file):\n",
        "  name = []\n",
        "  fin = open(file, \"r\")\n",
        "  for line in fin:\n",
        "    line=float(line.strip())\n",
        "    name.append(line)\n",
        "  return name\n",
        "\n",
        "def read_feats(file):\n",
        "  to_return = []\n",
        "  fin = open(file, \"r\")\n",
        "  for line in fin:\n",
        "    line=line.strip().split(\" \")\n",
        "    line=[float(x) for x in line]\n",
        "    to_return.append(line)\n",
        "  to_return_ar = np.array(to_return)\n",
        "  return to_return_ar\n"
      ],
      "metadata": {
        "id": "nZemwFKgINfw"
      },
      "execution_count": 22,
      "outputs": []
    },
    {
      "cell_type": "code",
      "source": [
        "scores_test = read_scores(\"scores_test.txt\")\n",
        "scores_train = read_scores(\"scores_train.txt\")\n",
        "\n",
        "feats_test = read_feats(\"feats_test.txt\")\n",
        "feats_train = read_feats(\"feats_train.txt\")"
      ],
      "metadata": {
        "id": "icVhW5mOJG3N"
      },
      "execution_count": 26,
      "outputs": []
    },
    {
      "cell_type": "code",
      "source": [
        "clf = load('randomregre_model.joblib')  #upload model"
      ],
      "metadata": {
        "id": "nnGMDUDqHySY"
      },
      "execution_count": 4,
      "outputs": []
    },
    {
      "cell_type": "code",
      "source": [
        "topic_names = [*range(0,180)] # create names for the topics\n",
        "print(topic_names)\n",
        "print(len(topic_names))"
      ],
      "metadata": {
        "colab": {
          "base_uri": "https://localhost:8080/"
        },
        "id": "3UAEMTk2Mrsx",
        "outputId": "b12a9115-ba5f-4dca-a2b7-28fd01b4a510"
      },
      "execution_count": 77,
      "outputs": [
        {
          "output_type": "stream",
          "name": "stdout",
          "text": [
            "[0, 1, 2, 3, 4, 5, 6, 7, 8, 9, 10, 11, 12, 13, 14, 15, 16, 17, 18, 19, 20, 21, 22, 23, 24, 25, 26, 27, 28, 29, 30, 31, 32, 33, 34, 35, 36, 37, 38, 39, 40, 41, 42, 43, 44, 45, 46, 47, 48, 49, 50, 51, 52, 53, 54, 55, 56, 57, 58, 59, 60, 61, 62, 63, 64, 65, 66, 67, 68, 69, 70, 71, 72, 73, 74, 75, 76, 77, 78, 79, 80, 81, 82, 83, 84, 85, 86, 87, 88, 89, 90, 91, 92, 93, 94, 95, 96, 97, 98, 99, 100, 101, 102, 103, 104, 105, 106, 107, 108, 109, 110, 111, 112, 113, 114, 115, 116, 117, 118, 119, 120, 121, 122, 123, 124, 125, 126, 127, 128, 129, 130, 131, 132, 133, 134, 135, 136, 137, 138, 139, 140, 141, 142, 143, 144, 145, 146, 147, 148, 149, 150, 151, 152, 153, 154, 155, 156, 157, 158, 159, 160, 161, 162, 163, 164, 165, 166, 167, 168, 169, 170, 171, 172, 173, 174, 175, 176, 177, 178, 179]\n",
            "180\n"
          ]
        }
      ]
    },
    {
      "cell_type": "code",
      "source": [
        "from matplotlib import pyplot as plt\n",
        "\n",
        "perm_importance = permutation_importance(clf, feats_train, scores_train) # count importance scores \n",
        "\n",
        "#print(\"perm_imortance\", perm_importance)\n",
        "\n",
        "sorted_names_score = sorted(zip(topic_names, perm_importance.importances_mean), key=lambda x: x[1], reverse=True) # combine topic names to topic importance scores and sort\n",
        "\n",
        "sorted_topics =  [i[0] for i in sorted_names_score] # make sorted topics a separate list\n",
        "sorted_scores =  [i[1] for i in sorted_names_score] # make sorted scores a separate list\n",
        "\n",
        "#print(sorted_topics) # check they're ok\n",
        "#print(sorted_scores)\n",
        "\n",
        "#sorted_idx = perm_importance.importances_mean.argsort() # the feats (i.e. topics) are ranked here from best onwards\n",
        "\n",
        "plt.barh(sorted_topics, sorted_scores) # printti ei ole hyvä, täytyy viilata\n",
        "#plt.xlabel(\"Permutation importance\")"
      ],
      "metadata": {
        "colab": {
          "base_uri": "https://localhost:8080/",
          "height": 282
        },
        "id": "csruhGNJXsmG",
        "outputId": "b30c9631-b333-4204-e857-48761a763881"
      },
      "execution_count": 78,
      "outputs": [
        {
          "output_type": "execute_result",
          "data": {
            "text/plain": [
              "<BarContainer object of 180 artists>"
            ]
          },
          "metadata": {},
          "execution_count": 78
        },
        {
          "output_type": "display_data",
          "data": {
            "text/plain": [
              "<Figure size 432x288 with 1 Axes>"
            ],
            "image/png": "[encoded data removed]"
          },
          "metadata": {
            "needs_background": "light"
          }
        }
      ]
    },
    {
      "cell_type": "code",
      "source": [
        "import pandas as pd\n",
        "print(len(topic_names))\n",
        "print(len(feats_train))\n",
        "#for line in feats_train:\n",
        "#  print(len(line))\n",
        "\n",
        "X = pd.DataFrame(feats_train, columns=topic_names) # make trainfeats into a dataframe\n",
        "#print(X)"
      ],
      "metadata": {
        "id": "77MRMBGJXFWf"
      },
      "execution_count": null,
      "outputs": []
    },
    {
      "cell_type": "code",
      "source": [
        "from sklearn.inspection import PartialDependenceDisplay\n",
        "topic = [0] # this is the topic (feature) we're looking at\n",
        "PartialDependenceDisplay.from_estimator(clf, X, topic)"
      ],
      "metadata": {
        "colab": {
          "base_uri": "https://localhost:8080/",
          "height": 299
        },
        "id": "I9CXrhVGXzxK",
        "outputId": "8cc145d9-4fb9-4d8b-c7a7-612d58d7f343"
      },
      "execution_count": 81,
      "outputs": [
        {
          "output_type": "execute_result",
          "data": {
            "text/plain": [
              "<sklearn.inspection._plot.partial_dependence.PartialDependenceDisplay at 0x7fdab39d6fd0>"
            ]
          },
          "metadata": {},
          "execution_count": 81
        },
        {
          "output_type": "display_data",
          "data": {
            "text/plain": [
              "<Figure size 432x288 with 2 Axes>"
            ],
            "image/png": "[encoded data removed]"
          },
          "metadata": {
            "needs_background": "light"
          }
        }
      ]
    },
    {
      "cell_type": "markdown",
      "source": [
        "## Then comes the classification part"
      ],
      "metadata": {
        "id": "PsgaLScLZd8o"
      }
    },
    {
      "cell_type": "code",
      "source": [
        "from sklearn.datasets import load_iris\n",
        "from sklearn.ensemble import RandomForestClassifier\n",
        "from sklearn.metrics import classification_report\n",
        "\n",
        "\n",
        "# get data, labels and model from server similar to above\n",
        "\n",
        "\"\"\"\n",
        "this is what we tested\n",
        "iris = load_iris()\n",
        "\n",
        "X = pd.DataFrame(iris.data, columns=iris.feature_names)\n",
        "y = iris.target\n",
        "X_train, X_test, y_train, y_test = train_test_split(X, y, test_size=0.25, random_state=12)\n",
        "\n",
        "rf = RandomForestClassifier(n_estimators=100)\n",
        "rf.fit(X_train, y_train)\n",
        "\n",
        "y_pred = rf.predict(X_test)\n",
        "print(rf.score(X,y)) #this is accuracy\n",
        "\n",
        "print(classification_report(y_test, y_pred))\n",
        "\"\"\""
      ],
      "metadata": {
        "id": "nOlnLOL1bKbq"
      },
      "execution_count": null,
      "outputs": []
    },
    {
      "cell_type": "code",
      "source": [
        "# get topic names like above"
      ],
      "metadata": {
        "id": "0gQXIWZtZ81H"
      },
      "execution_count": null,
      "outputs": []
    },
    {
      "cell_type": "code",
      "source": [
        "# count scores like above\n",
        "\n",
        "\n",
        "\"\"\"\n",
        "this is what we had for test\n",
        "perm_importance = permutation_importance(rf, X_test, y_test)\n",
        "#print(\"perm_imortance\", perm_importance)\n",
        "sorted_idx = perm_importance.importances_mean.argsort()\n",
        "#print(\"sorted\", sorted_idx)\n",
        "irisnames_array = np.array(iris.feature_names)\n",
        "plt.barh(irisnames_array[sorted_idx], perm_importance.importances_mean[sorted_idx]) # change color\n",
        "plt.xlabel(\"Permutation importance\")\n",
        "\"\"\""
      ],
      "metadata": {
        "id": "Fk3MTxradxRq"
      },
      "execution_count": null,
      "outputs": []
    },
    {
      "cell_type": "code",
      "source": [
        "from sklearn.inspection import PartialDependenceDisplay\n",
        "# ks https://scikit-learn.org/stable/modules/partial_dependence.html\n",
        "\n",
        "features = [1] # tämä on topiikki\n",
        "PartialDependenceDisplay.from_estimator(rf, X, features, target=1) # target on luokkanumero, oikein vai väärin"
      ],
      "metadata": {
        "colab": {
          "base_uri": "https://localhost:8080/",
          "height": 296
        },
        "id": "vr5LD5-chaHq",
        "outputId": "87267b57-768f-4228-e1f5-5912f0ef5bca"
      },
      "execution_count": 43,
      "outputs": [
        {
          "output_type": "execute_result",
          "data": {
            "text/plain": [
              "<sklearn.inspection._plot.partial_dependence.PartialDependenceDisplay at 0x7fae874ffe10>"
            ]
          },
          "metadata": {},
          "execution_count": 43
        },
        {
          "output_type": "display_data",
          "data": {
            "text/plain": [
              "<Figure size 432x288 with 2 Axes>"
            ],
            "image/png": "[encoded data removed]"
          },
          "metadata": {
            "needs_background": "light"
          }
        }
      ]
    },
    {
      "cell_type": "code",
      "source": [
        ""
      ],
      "metadata": {
        "id": "3FaMW2ochaZ1"
      },
      "execution_count": null,
      "outputs": []
    },
    {
      "cell_type": "code",
      "source": [
        ""
      ],
      "metadata": {
        "id": "nKAXe7Ihd0rA"
      },
      "execution_count": null,
      "outputs": []
    }
  ]
}