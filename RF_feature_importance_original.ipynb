{
  "nbformat": 4,
  "nbformat_minor": 0,
  "metadata": {
    "colab": {
      "name": "RF_feature_importance.ipynb",
      "provenance": [],
      "authorship_tag": "ABX9TyODtDakrmIiGWgaeTQejEgD",
      "include_colab_link": true
    },
    "kernelspec": {
      "name": "python3",
      "display_name": "Python 3"
    },
    "language_info": {
      "name": "python"
    }
  },
  "cells": [
    {
      "cell_type": "markdown",
      "metadata": {
        "id": "view-in-github",
        "colab_type": "text"
      },
      "source": [
        "<a href=\"https://colab.research.google.com/github/mavela/RF_feature_importance/blob/master/RF_feature_importance_original.ipynb\" target=\"_parent\"><img src=\"https://colab.research.google.com/assets/colab-badge.svg\" alt=\"Open In Colab\"/></a>"
      ]
    },
    {
      "cell_type": "code",
      "execution_count": 2,
      "metadata": {
        "id": "iGVGnclTWsEy"
      },
      "outputs": [],
      "source": [
        "import sys\n",
        "import gzip\n",
        "import numpy as np\n",
        "import re\n",
        "from sklearn.metrics import classification_report\n",
        "import sklearn.feature_extraction\n",
        "import json\n",
        "from sklearn.ensemble import RandomForestClassifier, RandomForestRegressor\n",
        "from sklearn.model_selection import train_test_split\n",
        "from sklearn.inspection import permutation_importance\n",
        "from sklearn.datasets import load_boston\n"
      ]
    },
    {
      "cell_type": "code",
      "source": [
        "import pandas as pd \n",
        "boston = load_boston()\n",
        "X = pd.DataFrame(boston.data, columns=boston.feature_names)\n",
        "y = boston.target\n",
        "X_train, X_test, y_train, y_test = train_test_split(X, y, test_size=0.25, random_state=12)\n",
        "\n",
        "rf = RandomForestRegressor(n_estimators=100)\n",
        "rf.fit(X_train, y_train)\n",
        "\n"
      ],
      "metadata": {
        "id": "EbPXYHh8XDj4"
      },
      "execution_count": null,
      "outputs": []
    },
    {
      "cell_type": "code",
      "source": [
        "from matplotlib import pyplot as plt\n",
        "perm_importance = permutation_importance(rf, X_test, y_test)\n",
        "print(\"perm_imortance\", perm_importance)\n",
        "sorted_idx = perm_importance.importances_mean.argsort()\n",
        "print(\"sorted\", sorted_idx)\n",
        "plt.barh(boston.feature_names[sorted_idx], perm_importance.importances_mean[sorted_idx]) # change color\n",
        "plt.xlabel(\"Permutation importance\")"
      ],
      "metadata": {
        "id": "csruhGNJXsmG"
      },
      "execution_count": null,
      "outputs": []
    },
    {
      "cell_type": "code",
      "source": [
        "print(boston.feature_names[sorted_idx])\n",
        "print(boston.feature_names)"
      ],
      "metadata": {
        "colab": {
          "base_uri": "https://localhost:8080/"
        },
        "id": "KjSsycMRcI9l",
        "outputId": "596e54a5-45a3-4bed-9dac-d2ed3030529d"
      },
      "execution_count": 14,
      "outputs": [
        {
          "output_type": "stream",
          "name": "stdout",
          "text": [
            "['CHAS' 'RAD' 'ZN' 'B' 'INDUS' 'AGE' 'DIS' 'TAX' 'CRIM' 'PTRATIO' 'NOX'\n",
            " 'RM' 'LSTAT']\n",
            "['CRIM' 'ZN' 'INDUS' 'CHAS' 'NOX' 'RM' 'AGE' 'DIS' 'RAD' 'TAX' 'PTRATIO'\n",
            " 'B' 'LSTAT']\n"
          ]
        }
      ]
    },
    {
      "cell_type": "code",
      "source": [
        "from sklearn.inspection import PartialDependenceDisplay\n",
        "\n",
        "#features = [0, 1, (0, 1)]\n",
        "features = [0]\n",
        "PartialDependenceDisplay.from_estimator(rf, X, features)"
      ],
      "metadata": {
        "colab": {
          "base_uri": "https://localhost:8080/",
          "height": 296
        },
        "id": "I9CXrhVGXzxK",
        "outputId": "e6ec126a-a61c-4bf6-ef74-367cb3223db3"
      },
      "execution_count": 15,
      "outputs": [
        {
          "output_type": "execute_result",
          "data": {
            "text/plain": [
              "<sklearn.inspection._plot.partial_dependence.PartialDependenceDisplay at 0x7fae8836ba90>"
            ]
          },
          "metadata": {},
          "execution_count": 15
        },
        {
          "output_type": "display_data",
          "data": {
            "text/plain": [
              "<Figure size 432x288 with 2 Axes>"
            ],
            "image/png": "[encoded data removed]"
          },
          "metadata": {
            "needs_background": "light"
          }
        }
      ]
    },
    {
      "cell_type": "code",
      "source": [
        "from sklearn.datasets import load_iris\n",
        "from sklearn.ensemble import RandomForestClassifier\n",
        "from sklearn.metrics import classification_report\n",
        "\n",
        "iris = load_iris()\n",
        "\n",
        "X = pd.DataFrame(iris.data, columns=iris.feature_names)\n",
        "y = iris.target\n",
        "X_train, X_test, y_train, y_test = train_test_split(X, y, test_size=0.25, random_state=12)\n",
        "\n",
        "rf = RandomForestClassifier(n_estimators=100)\n",
        "rf.fit(X_train, y_train)\n",
        "\n",
        "y_pred = rf.predict(X_test)\n",
        "print(rf.score(X,y)) #this is accuracy\n",
        "\n",
        "print(classification_report(y_test, y_pred))\n"
      ],
      "metadata": {
        "colab": {
          "base_uri": "https://localhost:8080/"
        },
        "id": "nOlnLOL1bKbq",
        "outputId": "a8e510ac-163b-4c9f-c33c-c0846f9cc546"
      },
      "execution_count": 29,
      "outputs": [
        {
          "output_type": "stream",
          "name": "stdout",
          "text": [
            "0.9933333333333333\n",
            "              precision    recall  f1-score   support\n",
            "\n",
            "           0       1.00      1.00      1.00        15\n",
            "           1       1.00      0.92      0.96        12\n",
            "           2       0.92      1.00      0.96        11\n",
            "\n",
            "    accuracy                           0.97        38\n",
            "   macro avg       0.97      0.97      0.97        38\n",
            "weighted avg       0.98      0.97      0.97        38\n",
            "\n"
          ]
        }
      ]
    },
    {
      "cell_type": "code",
      "source": [
        "perm_importance = permutation_importance(rf, X_test, y_test)\n",
        "#print(\"perm_imortance\", perm_importance)\n",
        "sorted_idx = perm_importance.importances_mean.argsort()\n",
        "#print(\"sorted\", sorted_idx)\n",
        "irisnames_array = np.array(iris.feature_names)\n",
        "plt.barh(irisnames_array[sorted_idx], perm_importance.importances_mean[sorted_idx]) # change color\n",
        "plt.xlabel(\"Permutation importance\")"
      ],
      "metadata": {
        "colab": {
          "base_uri": "https://localhost:8080/",
          "height": 296
        },
        "id": "Fk3MTxradxRq",
        "outputId": "05b0e9aa-e855-458a-9b41-349307e8e26f"
      },
      "execution_count": 39,
      "outputs": [
        {
          "output_type": "execute_result",
          "data": {
            "text/plain": [
              "Text(0.5, 0, 'Permutation importance')"
            ]
          },
          "metadata": {},
          "execution_count": 39
        },
        {
          "output_type": "display_data",
          "data": {
            "text/plain": [
              "<Figure size 432x288 with 1 Axes>"
            ],
            "image/png": "[encoded data removed]"
          },
          "metadata": {
            "needs_background": "light"
          }
        }
      ]
    },
    {
      "cell_type": "code",
      "source": [
        "from sklearn.inspection import PartialDependenceDisplay\n",
        "# ks https://scikit-learn.org/stable/modules/partial_dependence.html\n",
        "\n",
        "#features = [0, 1, (0, 1)]\n",
        "features = [1]\n",
        "PartialDependenceDisplay.from_estimator(rf, X, features, target=1) # target on luokkanumero"
      ],
      "metadata": {
        "colab": {
          "base_uri": "https://localhost:8080/",
          "height": 296
        },
        "id": "vr5LD5-chaHq",
        "outputId": "87267b57-768f-4228-e1f5-5912f0ef5bca"
      },
      "execution_count": 43,
      "outputs": [
        {
          "output_type": "execute_result",
          "data": {
            "text/plain": [
              "<sklearn.inspection._plot.partial_dependence.PartialDependenceDisplay at 0x7fae874ffe10>"
            ]
          },
          "metadata": {},
          "execution_count": 43
        },
        {
          "output_type": "display_data",
          "data": {
            "text/plain": [
              "<Figure size 432x288 with 2 Axes>"
            ],
            "image/png": "[encoded data removed]"
          },
          "metadata": {
            "needs_background": "light"
          }
        }
      ]
    },
    {
      "cell_type": "code",
      "source": [
        ""
      ],
      "metadata": {
        "id": "3FaMW2ochaZ1"
      },
      "execution_count": null,
      "outputs": []
    },
    {
      "cell_type": "code",
      "source": [
        ""
      ],
      "metadata": {
        "id": "nKAXe7Ihd0rA"
      },
      "execution_count": null,
      "outputs": []
    }
  ]
}